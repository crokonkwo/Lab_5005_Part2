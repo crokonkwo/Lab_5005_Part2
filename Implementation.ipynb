{
 "cells": [
  {
   "cell_type": "markdown",
   "id": "f8144fb0",
   "metadata": {},
   "source": [
    "### End-to-End Encryption"
   ]
  },
  {
   "cell_type": "code",
   "execution_count": 3,
   "id": "90cc0130",
   "metadata": {},
   "outputs": [
    {
     "name": "stdout",
     "output_type": "stream",
     "text": [
      "Encrypted data: b'gAAAAABlnRse3UQs3AmBTEHUz3Lri0VfGgcxJXdrWl12Eh_eCkZgK8_gSv6VfkDrHLwppiYSHYz4TK8P3mHHDBxaluVynL27IZpG8duntJGaefi70Bbr0w90KJbSBhu-ns6S26FxYdiFO0GbqUewx7y16e2l9XJSog=='\n",
      "Decrypted data: b'Patient Name: John Doe, Age: 55, Blood Pressure: 120/80'\n"
     ]
    }
   ],
   "source": [
    "import cryptography.fernet as f\n",
    "\n",
    "# Generate a key\n",
    "key = f.Fernet.generate_key()\n",
    "\n",
    "# Create a Fernet instance\n",
    "fernet = f.Fernet(key)\n",
    "\n",
    "# Sample health data\n",
    "health_data = b\"Patient Name: John Doe, Age: 55, Blood Pressure: 120/80\"\n",
    "\n",
    "# Encrypt the data\n",
    "encrypted_data = fernet.encrypt(health_data)\n",
    "\n",
    "# Decrypt the data (only authorized parties with the key can do this)\n",
    "decrypted_data = fernet.decrypt(encrypted_data)\n",
    "\n",
    "print(\"Encrypted data:\", encrypted_data)\n",
    "print(\"Decrypted data:\", decrypted_data)"
   ]
  },
  {
   "cell_type": "markdown",
   "id": "700d37ad",
   "metadata": {},
   "source": [
    "### Homomorphic Encryption"
   ]
  },
  {
   "cell_type": "code",
   "execution_count": 7,
   "id": "4a93080d",
   "metadata": {},
   "outputs": [
    {
     "name": "stdout",
     "output_type": "stream",
     "text": [
      "Encrypted average: <phe.paillier.EncryptedNumber object at 0x000002243A34B430>\n",
      "Decrypted average: 96.86666666666666\n"
     ]
    }
   ],
   "source": [
    "import phe.paillier as paillier\n",
    "\n",
    "# Generate public and private keys\n",
    "public_key, private_key = paillier.generate_paillier_keypair()\n",
    "\n",
    "# Sample health data (represented as integers for SHE)\n",
    "health_data = [98.6, 72, 120]  # Temperature, heart rate, blood pressure\n",
    "\n",
    "# Encrypt the data\n",
    "encrypted_data = [public_key.encrypt(value) for value in health_data]\n",
    "\n",
    "# Perform computations securely on encrypted data\n",
    "encrypted_sum = sum(encrypted_data)\n",
    "encrypted_average = public_key.encrypt(1) / len(health_data)\n",
    "\n",
    "decrypted_constant = private_key.decrypt(encrypted_average)\n",
    "encrypted_average = encrypted_sum * decrypted_constant\n",
    "\n",
    "# Decrypt the intermediate result\n",
    "decrypted_average = private_key.decrypt(encrypted_average)\n",
    "\n",
    "# Optionally re-encrypt\n",
    "encrypted_average = public_key.encrypt(decrypted_average)\n",
    "\n",
    "# Final decryption\n",
    "decrypted_average = private_key.decrypt(encrypted_average)\n",
    "\n",
    "print(\"Encrypted average:\", encrypted_average)\n",
    "print(\"Decrypted average:\", decrypted_average)"
   ]
  }
 ],
 "metadata": {
  "kernelspec": {
   "display_name": "Python 3 (ipykernel)",
   "language": "python",
   "name": "python3"
  },
  "language_info": {
   "codemirror_mode": {
    "name": "ipython",
    "version": 3
   },
   "file_extension": ".py",
   "mimetype": "text/x-python",
   "name": "python",
   "nbconvert_exporter": "python",
   "pygments_lexer": "ipython3",
   "version": "3.9.18"
  }
 },
 "nbformat": 4,
 "nbformat_minor": 5
}
